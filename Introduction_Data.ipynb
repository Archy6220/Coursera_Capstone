{
 "cells": [
  {
   "cell_type": "markdown",
   "metadata": {},
   "source": [
    "# Introduction\n",
    "\n",
    "The main objective of this project is to determine the safest place in terms of the criminal situation for opening a business in Denver, USA.\n",
    "\n",
    "First, needed to choose the safest borough with a sufficient list of neighborhoods for business development  by analysing crime data. We will use the studied course material and such standard libraries as pandas, numpy, matplotlib, etc. We will focus on finding the safest borough and its neighbourhoods, where few grocery stores."
   ]
  },
  {
   "cell_type": "markdown",
   "metadata": {},
   "source": [
    "# Data\n",
    "\n",
    "Based on the problem, we must:\n",
    "Find the safest area with a enough list of neighborhoods\n",
    "Identify its most common places\n",
    "\n",
    "\n",
    "\n",
    "We will use the geographical coordinates of the city of Denver and the coordinates of the crimes recorded from 1st January 2015 to 17 July 2020.\n",
    "\n",
    "Following data sources will be needed to extract/generate the required information:\n",
    "\n",
    "https://www.kaggle.com/paultimothymooney/denver-crime-data\n",
    "dataset include type, date and location of crime in Denver.\n",
    "\n",
    "https://en.wikipedia.org/wiki/List_of_neighborhoods_in_Denver\n",
    "There we have a neighbourhoods and which borough they include.\n",
    "\n",
    "Also, we will needed to create a new  dataset of the Neighborhoods, boroughs, and the most common venues and the respective Neighbourhood along with coordinates. This data will be fetched using Foursquare API to explore the neighbourhood venues and to apply machine learning algorithm to cluster the neighbourhoods and present the findings by plotting it on maps using Folium."
   ]
  },
  {
   "cell_type": "code",
   "execution_count": null,
   "metadata": {},
   "outputs": [],
   "source": []
  }
 ],
 "metadata": {
  "kernelspec": {
   "display_name": "Python 3",
   "language": "python",
   "name": "python3"
  },
  "language_info": {
   "codemirror_mode": {
    "name": "ipython",
    "version": 3
   },
   "file_extension": ".py",
   "mimetype": "text/x-python",
   "name": "python",
   "nbconvert_exporter": "python",
   "pygments_lexer": "ipython3",
   "version": "3.7.6"
  }
 },
 "nbformat": 4,
 "nbformat_minor": 4
}
